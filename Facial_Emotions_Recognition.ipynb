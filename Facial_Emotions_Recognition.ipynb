{
  "nbformat": 4,
  "nbformat_minor": 0,
  "metadata": {
    "colab": {
      "name": "Facial Emotions Recognition",
      "version": "0.3.2",
      "provenance": [],
      "collapsed_sections": []
    },
    "kernelspec": {
      "name": "python3",
      "display_name": "Python 3"
    },
    "accelerator": "GPU"
  },
  "cells": [
    {
      "metadata": {
        "id": "95_BlsJ8ZuYF",
        "colab_type": "code",
        "colab": {}
      },
      "cell_type": "code",
      "source": [
        "#Upload kaggle.json\n",
        "from google.colab import files\n",
        "files.upload()"
      ],
      "execution_count": 0,
      "outputs": []
    },
    {
      "metadata": {
        "id": "CoxoAGttaQ3E",
        "colab_type": "code",
        "colab": {}
      },
      "cell_type": "code",
      "source": [
        "!pip install -q kaggle\n",
        "!mkdir -p ~/.kaggle\n",
        "!cp kaggle.json ~/.kaggle/\n",
        "!chmod 600 ~/.kaggle/kaggle.json"
      ],
      "execution_count": 0,
      "outputs": []
    },
    {
      "metadata": {
        "id": "Q--W12SUelU3",
        "colab_type": "code",
        "colab": {}
      },
      "cell_type": "code",
      "source": [
        "#Copy API from kaggle page\n",
        "!kaggle competitions download -c challenges-in-representation-learning-facial-expression-recognition-challenge\n"
      ],
      "execution_count": 0,
      "outputs": []
    },
    {
      "metadata": {
        "id": "7bv-2ICieq0q",
        "colab_type": "code",
        "outputId": "4da57643-0c4b-4769-8768-e98f31057cb6",
        "colab": {
          "base_uri": "https://localhost:8080/",
          "height": 34
        }
      },
      "cell_type": "code",
      "source": [
        "!ls\n"
      ],
      "execution_count": 11,
      "outputs": [
        {
          "output_type": "stream",
          "text": [
            "dataset  example_submission.csv  fer2013.bib  fer2013.tar.gz  README\n"
          ],
          "name": "stdout"
        }
      ]
    },
    {
      "metadata": {
        "id": "ADXHjwG4lGD3",
        "colab_type": "code",
        "colab": {}
      },
      "cell_type": "code",
      "source": [
        "!mkdir dataset\n",
        "import tarfile\n",
        "tar = tarfile.open(\"./fer2013.tar.gz\")\n",
        "tar.extractall('./dataset')\n",
        "tar.close()"
      ],
      "execution_count": 0,
      "outputs": []
    },
    {
      "metadata": {
        "id": "RiJctOOulg8h",
        "colab_type": "code",
        "outputId": "12cdf42c-7bd4-4f2b-d680-b158e6628530",
        "colab": {
          "base_uri": "https://localhost:8080/",
          "height": 34
        }
      },
      "cell_type": "code",
      "source": [
        "%cd ./dataset/fer2013\n",
        "!mv fer2013.csv /content/"
      ],
      "execution_count": 13,
      "outputs": [
        {
          "output_type": "stream",
          "text": [
            "/content/dataset/fer2013/dataset/fer2013\n"
          ],
          "name": "stdout"
        }
      ]
    },
    {
      "metadata": {
        "id": "SDFSMRZcl36l",
        "colab_type": "code",
        "outputId": "71401b79-fd29-454c-db13-4e55e1cd8be1",
        "colab": {
          "base_uri": "https://localhost:8080/",
          "height": 34
        }
      },
      "cell_type": "code",
      "source": [
        "%cd /content"
      ],
      "execution_count": 14,
      "outputs": [
        {
          "output_type": "stream",
          "text": [
            "/content\n"
          ],
          "name": "stdout"
        }
      ]
    },
    {
      "metadata": {
        "id": "fO6mQIlpjCLb",
        "colab_type": "code",
        "outputId": "7a38d8be-4304-4938-e9dc-7bce0d0a6242",
        "colab": {
          "base_uri": "https://localhost:8080/",
          "height": 50
        }
      },
      "cell_type": "code",
      "source": [
        "!ls\n"
      ],
      "execution_count": 15,
      "outputs": [
        {
          "output_type": "stream",
          "text": [
            "dataset\t\t\tfer2013.csv\tkaggle.json\n",
            "example_submission.csv\tfer2013.tar.gz\tsample_data\n"
          ],
          "name": "stdout"
        }
      ]
    },
    {
      "metadata": {
        "id": "E-IQRNcdjvjS",
        "colab_type": "code",
        "outputId": "a1e6cd16-bf64-4200-d8ff-0737aeee1982",
        "colab": {
          "base_uri": "https://localhost:8080/",
          "height": 34
        }
      },
      "cell_type": "code",
      "source": [
        "!rm -r dataset\n",
        "!rm example_submission.csv\n",
        "!rm fer2013.tar.gz\n",
        "!rm -r sample_data\n",
        "!rm -r fer2013"
      ],
      "execution_count": 16,
      "outputs": [
        {
          "output_type": "stream",
          "text": [
            "rm: cannot remove 'fer2013': No such file or directory\n"
          ],
          "name": "stdout"
        }
      ]
    },
    {
      "metadata": {
        "id": "WAao53I_m1Lu",
        "colab_type": "code",
        "outputId": "2b3336be-4b1c-4374-ba76-e94d62ff9572",
        "colab": {
          "base_uri": "https://localhost:8080/",
          "height": 50
        }
      },
      "cell_type": "code",
      "source": [
        "!ls\n",
        "!pwd"
      ],
      "execution_count": 17,
      "outputs": [
        {
          "output_type": "stream",
          "text": [
            "fer2013.csv  kaggle.json\n",
            "/content\n"
          ],
          "name": "stdout"
        }
      ]
    },
    {
      "metadata": {
        "id": "mPvj4V4-nD37",
        "colab_type": "code",
        "colab": {
          "base_uri": "https://localhost:8080/",
          "height": 34
        },
        "outputId": "10167602-ae9a-44bc-8558-b3ff9a9dfea5"
      },
      "cell_type": "code",
      "source": [
        "import keras\n",
        "import pandas as pd\n",
        "import numpy as np\n",
        "import matplotlib.pyplot as plt\n",
        "from skimage.transform import resize\n",
        "\n",
        "img_width = 48\n",
        "img_height = 48\n",
        "dataset = pd.read_csv('./fer2013.csv')\n"
      ],
      "execution_count": 18,
      "outputs": [
        {
          "output_type": "stream",
          "text": [
            "Using TensorFlow backend.\n"
          ],
          "name": "stderr"
        }
      ]
    },
    {
      "metadata": {
        "id": "97LB3ScLvIhR",
        "colab_type": "code",
        "colab": {}
      },
      "cell_type": "code",
      "source": [
        "Z = dataset.iloc[:,2].values"
      ],
      "execution_count": 0,
      "outputs": []
    },
    {
      "metadata": {
        "id": "S15FoBKivOru",
        "colab_type": "code",
        "outputId": "5b2d9e43-88f1-4416-eeeb-ef0f949ca941",
        "colab": {
          "base_uri": "https://localhost:8080/",
          "height": 34
        }
      },
      "cell_type": "code",
      "source": [
        "temp = 0\n",
        "for x in Z:\n",
        "  if str(x) != 'Training':\n",
        "    break\n",
        "  temp = temp+1\n",
        "\n",
        "print(temp)"
      ],
      "execution_count": 20,
      "outputs": [
        {
          "output_type": "stream",
          "text": [
            "28709\n"
          ],
          "name": "stdout"
        }
      ]
    },
    {
      "metadata": {
        "id": "YIKUduNPvAWK",
        "colab_type": "code",
        "colab": {}
      },
      "cell_type": "code",
      "source": [
        "X = dataset.iloc[:, 1].values\n",
        "y = dataset.iloc[:, 0].values\n",
        "\n",
        "images = np.empty((len(X), img_height, img_width, 3))\n",
        "i=0\n",
        "for pixel_string in X:\n",
        "  temp = [float(pixel) for pixel in pixel_string.split(' ')]\n",
        "  temp = np.asarray(temp).reshape(img_height, img_width)\n",
        "  temp = resize(temp, (img_height, img_width), order=3, mode='constant')\n",
        "\n",
        "  channel = np.empty((img_height, img_width, 3))\n",
        "  channel[:, :, 0] = temp\n",
        "  channel[:, :, 1] = temp\n",
        "  channel[:, :, 2] = temp\n",
        "\n",
        "  images[i, :, :, :] = channel\n",
        "  i = i + 1\n",
        "\n",
        "images /= 255.0\n",
        "labels = keras.utils.to_categorical(y, 7)   \n",
        "\n",
        "crossvalidation_set = images[28709:,:,:,:]\n",
        "images = images[0:28909,:,:,:]\n",
        " \n"
      ],
      "execution_count": 0,
      "outputs": []
    },
    {
      "metadata": {
        "id": "wijHJ65sibIQ",
        "colab_type": "code",
        "colab": {}
      },
      "cell_type": "code",
      "source": [
        "cross_label = labels[28709:,:]\n",
        "labels = labels[0:28909,:]"
      ],
      "execution_count": 0,
      "outputs": []
    },
    {
      "metadata": {
        "id": "sA8Ci7eh2kTh",
        "colab_type": "code",
        "colab": {}
      },
      "cell_type": "code",
      "source": [
        "from keras import applications\n",
        "from keras.preprocessing.image import ImageDataGenerator\n",
        "from keras import optimizers\n",
        "from keras.models import Sequential\n",
        "from keras.layers import Dense, Flatten, Conv2D, Dropout, MaxPooling2D,MaxPooling1D\n",
        "from keras.layers import Activation,Dropout,Flatten,BatchNormalization\n",
        "from keras import backend as K\n",
        "import tensorflow as tf\n",
        "from tensorflow.keras.callbacks import TensorBoard"
      ],
      "execution_count": 0,
      "outputs": []
    },
    {
      "metadata": {
        "id": "JGqShpfR368k",
        "colab_type": "code",
        "colab": {}
      },
      "cell_type": "code",
      "source": [
        "datagen = ImageDataGenerator(\n",
        "    featurewise_center=True,\n",
        "    featurewise_std_normalization=True,\n",
        "    rotation_range=20,\n",
        "    width_shift_range=0.2,\n",
        "    height_shift_range=0.2,\n",
        "    horizontal_flip=True)\n",
        "\n",
        "test_datagen = ImageDataGenerator(\n",
        "        rescale = 1./1)\n",
        "\n",
        "# compute quantities required for featurewise normalization\n",
        "# (std, mean, and principal components if ZCA whitening is applied)\n",
        "datagen.fit(images)\n",
        "\n",
        "# fits the model on batches with real-time data augmentation:\n",
        "training_datagen = datagen.flow(images, labels, batch_size=32)\n",
        "\n",
        "validation_datagen = test_datagen.flow(crossvalidation_set,cross_label,batch_size = 32)"
      ],
      "execution_count": 0,
      "outputs": []
    },
    {
      "metadata": {
        "id": "NgO3c4FJ5Y_4",
        "colab_type": "code",
        "outputId": "d7977cd0-e679-4618-e4b0-c24b89a2b932",
        "colab": {
          "base_uri": "https://localhost:8080/",
          "height": 941
        }
      },
      "cell_type": "code",
      "source": [
        "input_shape = (48, 48, 3)\n",
        "batch_size = 64\n",
        "epochs = 40\n",
        "verbose = 1\n",
        "\n",
        "model = Sequential()\n",
        "model.add(Conv2D(\n",
        "    32,\n",
        "    kernel_size=(3, 3),\n",
        "    activation='relu',\n",
        "    input_shape=input_shape\n",
        "))\n",
        "\n",
        "model.add(Dropout(0.35))\n",
        "\n",
        "model.add(Conv2D(\n",
        "    64,\n",
        "    (3, 3),\n",
        "    activation='relu'\n",
        "))\n",
        "\n",
        "model.add(Dropout(0.25))\n",
        "\n",
        "model.add(MaxPooling2D(pool_size=(2, 2),padding = 'same'))\n",
        "\n",
        "model.add(Conv2D(\n",
        "    128,\n",
        "    (3, 3),\n",
        "    activation='relu'\n",
        "))\n",
        "\n",
        "model.add(Conv2D(\n",
        "    256,\n",
        "    (3, 3),\n",
        "    activation='relu'\n",
        "))\n",
        "\n",
        "model.add(MaxPooling2D(pool_size=(3, 3)))\n",
        "\n",
        "model.add(Dropout(0.25))\n",
        "\n",
        "model.add(Flatten())\n",
        "model.add(Dense(2048, activation='relu'))\n",
        "model.add(BatchNormalization())\n",
        "model.add(Dropout(0.35))\n",
        "model.add(Dense(1024, activation='relu'))\n",
        "model.add(BatchNormalization())\n",
        "model.add(Dropout(0.35))\n",
        "model.add(Dense(512, activation='relu'))\n",
        "model.add(BatchNormalization())\n",
        "model.add(Dropout(0.35))\n",
        "model.add(Dense(256, activation='relu'))\n",
        "model.add(BatchNormalization())\n",
        "model.add(Dense(128, activation='relu'))\n",
        "model.add(Dropout(0.35))\n",
        "model.add(Dense(7, activation='softmax'))\n",
        "\n",
        "model.compile(\n",
        "    optimizer='adam',\n",
        "    metrics=['accuracy'],\n",
        "    loss='categorical_crossentropy'\n",
        ")\n",
        "\n",
        "model.summary()\n"
      ],
      "execution_count": 37,
      "outputs": [
        {
          "output_type": "stream",
          "text": [
            "_________________________________________________________________\n",
            "Layer (type)                 Output Shape              Param #   \n",
            "=================================================================\n",
            "conv2d_13 (Conv2D)           (None, 46, 46, 32)        896       \n",
            "_________________________________________________________________\n",
            "dropout_15 (Dropout)         (None, 46, 46, 32)        0         \n",
            "_________________________________________________________________\n",
            "conv2d_14 (Conv2D)           (None, 44, 44, 64)        18496     \n",
            "_________________________________________________________________\n",
            "dropout_16 (Dropout)         (None, 44, 44, 64)        0         \n",
            "_________________________________________________________________\n",
            "max_pooling2d_7 (MaxPooling2 (None, 22, 22, 64)        0         \n",
            "_________________________________________________________________\n",
            "conv2d_15 (Conv2D)           (None, 20, 20, 128)       73856     \n",
            "_________________________________________________________________\n",
            "conv2d_16 (Conv2D)           (None, 18, 18, 256)       295168    \n",
            "_________________________________________________________________\n",
            "max_pooling2d_8 (MaxPooling2 (None, 6, 6, 256)         0         \n",
            "_________________________________________________________________\n",
            "dropout_17 (Dropout)         (None, 6, 6, 256)         0         \n",
            "_________________________________________________________________\n",
            "flatten_4 (Flatten)          (None, 9216)              0         \n",
            "_________________________________________________________________\n",
            "dense_15 (Dense)             (None, 2048)              18876416  \n",
            "_________________________________________________________________\n",
            "batch_normalization_9 (Batch (None, 2048)              8192      \n",
            "_________________________________________________________________\n",
            "dropout_18 (Dropout)         (None, 2048)              0         \n",
            "_________________________________________________________________\n",
            "dense_16 (Dense)             (None, 1024)              2098176   \n",
            "_________________________________________________________________\n",
            "batch_normalization_10 (Batc (None, 1024)              4096      \n",
            "_________________________________________________________________\n",
            "dropout_19 (Dropout)         (None, 1024)              0         \n",
            "_________________________________________________________________\n",
            "dense_17 (Dense)             (None, 512)               524800    \n",
            "_________________________________________________________________\n",
            "batch_normalization_11 (Batc (None, 512)               2048      \n",
            "_________________________________________________________________\n",
            "dropout_20 (Dropout)         (None, 512)               0         \n",
            "_________________________________________________________________\n",
            "dense_18 (Dense)             (None, 256)               131328    \n",
            "_________________________________________________________________\n",
            "batch_normalization_12 (Batc (None, 256)               1024      \n",
            "_________________________________________________________________\n",
            "dense_19 (Dense)             (None, 128)               32896     \n",
            "_________________________________________________________________\n",
            "dropout_21 (Dropout)         (None, 128)               0         \n",
            "_________________________________________________________________\n",
            "dense_20 (Dense)             (None, 7)                 903       \n",
            "=================================================================\n",
            "Total params: 22,068,295\n",
            "Trainable params: 22,060,615\n",
            "Non-trainable params: 7,680\n",
            "_________________________________________________________________\n"
          ],
          "name": "stdout"
        }
      ]
    },
    {
      "metadata": {
        "id": "YMsvzbohJl7n",
        "colab_type": "code",
        "colab": {
          "base_uri": "https://localhost:8080/",
          "height": 1378
        },
        "outputId": "3474f25d-b213-4e8c-c342-edfdc6208048"
      },
      "cell_type": "code",
      "source": [
        "history = model.fit(\n",
        "    images, labels,\n",
        "    validation_data = (crossvalidation_set,cross_label),\n",
        "    batch_size=batch_size,\n",
        "    verbose=verbose,\n",
        "    epochs=epochs\n",
        ")"
      ],
      "execution_count": 38,
      "outputs": [
        {
          "output_type": "stream",
          "text": [
            "Train on 28909 samples, validate on 7178 samples\n",
            "Epoch 1/40\n",
            "28909/28909 [==============================] - 47s 2ms/step - loss: 1.9123 - acc: 0.2286 - val_loss: 2.1348 - val_acc: 0.1718\n",
            "Epoch 2/40\n",
            "28909/28909 [==============================] - 45s 2ms/step - loss: 1.7112 - acc: 0.3169 - val_loss: 1.7052 - val_acc: 0.3222\n",
            "Epoch 3/40\n",
            "28909/28909 [==============================] - 45s 2ms/step - loss: 1.5425 - acc: 0.3981 - val_loss: 1.5925 - val_acc: 0.3750\n",
            "Epoch 4/40\n",
            "28909/28909 [==============================] - 45s 2ms/step - loss: 1.4152 - acc: 0.4549 - val_loss: 1.4735 - val_acc: 0.4344\n",
            "Epoch 5/40\n",
            "28909/28909 [==============================] - 45s 2ms/step - loss: 1.3320 - acc: 0.4902 - val_loss: 1.3820 - val_acc: 0.4868\n",
            "Epoch 6/40\n",
            "28909/28909 [==============================] - 45s 2ms/step - loss: 1.2577 - acc: 0.5237 - val_loss: 1.3267 - val_acc: 0.4993\n",
            "Epoch 7/40\n",
            "28909/28909 [==============================] - 45s 2ms/step - loss: 1.2010 - acc: 0.5429 - val_loss: 1.2761 - val_acc: 0.5079\n",
            "Epoch 8/40\n",
            "28909/28909 [==============================] - 45s 2ms/step - loss: 1.1446 - acc: 0.5671 - val_loss: 1.2082 - val_acc: 0.5304\n",
            "Epoch 9/40\n",
            "28909/28909 [==============================] - 45s 2ms/step - loss: 1.0988 - acc: 0.5858 - val_loss: 1.1681 - val_acc: 0.5574\n",
            "Epoch 10/40\n",
            "28909/28909 [==============================] - 45s 2ms/step - loss: 1.0497 - acc: 0.6101 - val_loss: 1.1690 - val_acc: 0.5634\n",
            "Epoch 11/40\n",
            "28909/28909 [==============================] - 45s 2ms/step - loss: 0.9974 - acc: 0.6287 - val_loss: 1.1034 - val_acc: 0.5853\n",
            "Epoch 12/40\n",
            "28909/28909 [==============================] - 45s 2ms/step - loss: 0.9443 - acc: 0.6500 - val_loss: 1.1920 - val_acc: 0.5584\n",
            "Epoch 13/40\n",
            "28909/28909 [==============================] - 45s 2ms/step - loss: 0.8901 - acc: 0.6726 - val_loss: 1.1780 - val_acc: 0.5777\n",
            "Epoch 14/40\n",
            "28909/28909 [==============================] - 45s 2ms/step - loss: 0.8351 - acc: 0.6936 - val_loss: 1.1139 - val_acc: 0.6007\n",
            "Epoch 15/40\n",
            "28909/28909 [==============================] - 45s 2ms/step - loss: 0.7870 - acc: 0.7136 - val_loss: 1.1105 - val_acc: 0.6025\n",
            "Epoch 16/40\n",
            "28909/28909 [==============================] - 45s 2ms/step - loss: 0.7321 - acc: 0.7343 - val_loss: 1.1466 - val_acc: 0.5996\n",
            "Epoch 17/40\n",
            "28909/28909 [==============================] - 45s 2ms/step - loss: 0.6783 - acc: 0.7531 - val_loss: 1.1548 - val_acc: 0.6096\n",
            "Epoch 18/40\n",
            "28909/28909 [==============================] - 45s 2ms/step - loss: 0.6208 - acc: 0.7752 - val_loss: 1.1347 - val_acc: 0.6134\n",
            "Epoch 19/40\n",
            "28909/28909 [==============================] - 45s 2ms/step - loss: 0.5818 - acc: 0.7899 - val_loss: 1.2166 - val_acc: 0.6176\n",
            "Epoch 20/40\n",
            "28909/28909 [==============================] - 45s 2ms/step - loss: 0.5466 - acc: 0.8067 - val_loss: 1.2105 - val_acc: 0.6081\n",
            "Epoch 21/40\n",
            "28909/28909 [==============================] - 45s 2ms/step - loss: 0.5226 - acc: 0.8140 - val_loss: 1.2487 - val_acc: 0.6088\n",
            "Epoch 22/40\n",
            "28909/28909 [==============================] - 45s 2ms/step - loss: 0.4776 - acc: 0.8308 - val_loss: 1.2939 - val_acc: 0.6048\n",
            "Epoch 23/40\n",
            "28909/28909 [==============================] - 46s 2ms/step - loss: 0.4565 - acc: 0.8384 - val_loss: 1.2903 - val_acc: 0.6250\n",
            "Epoch 24/40\n",
            "28909/28909 [==============================] - 46s 2ms/step - loss: 0.4237 - acc: 0.8523 - val_loss: 1.3282 - val_acc: 0.6062\n",
            "Epoch 25/40\n",
            "28909/28909 [==============================] - 46s 2ms/step - loss: 0.3959 - acc: 0.8613 - val_loss: 1.2971 - val_acc: 0.6243\n",
            "Epoch 26/40\n",
            "28909/28909 [==============================] - 45s 2ms/step - loss: 0.3777 - acc: 0.8701 - val_loss: 1.3125 - val_acc: 0.6121\n",
            "Epoch 27/40\n",
            "28909/28909 [==============================] - 46s 2ms/step - loss: 0.3629 - acc: 0.8727 - val_loss: 1.3675 - val_acc: 0.6241\n",
            "Epoch 28/40\n",
            "28909/28909 [==============================] - 46s 2ms/step - loss: 0.3365 - acc: 0.8823 - val_loss: 1.3519 - val_acc: 0.6269\n",
            "Epoch 29/40\n",
            "28909/28909 [==============================] - 46s 2ms/step - loss: 0.3209 - acc: 0.8921 - val_loss: 1.3460 - val_acc: 0.6239\n",
            "Epoch 30/40\n",
            "28909/28909 [==============================] - 45s 2ms/step - loss: 0.3024 - acc: 0.8961 - val_loss: 1.3941 - val_acc: 0.6264\n",
            "Epoch 31/40\n",
            "28909/28909 [==============================] - 45s 2ms/step - loss: 0.2839 - acc: 0.9001 - val_loss: 1.3280 - val_acc: 0.6283\n",
            "Epoch 32/40\n",
            "28909/28909 [==============================] - 45s 2ms/step - loss: 0.2585 - acc: 0.9102 - val_loss: 1.5324 - val_acc: 0.6257\n",
            "Epoch 33/40\n",
            "28909/28909 [==============================] - 45s 2ms/step - loss: 0.2578 - acc: 0.9090 - val_loss: 1.4928 - val_acc: 0.6357\n",
            "Epoch 34/40\n",
            "28909/28909 [==============================] - 45s 2ms/step - loss: 0.2396 - acc: 0.9185 - val_loss: 1.5225 - val_acc: 0.6268\n",
            "Epoch 35/40\n",
            "28909/28909 [==============================] - 45s 2ms/step - loss: 0.2498 - acc: 0.9114 - val_loss: 1.6081 - val_acc: 0.6167\n",
            "Epoch 36/40\n",
            "28909/28909 [==============================] - 45s 2ms/step - loss: 0.2461 - acc: 0.9149 - val_loss: 1.4643 - val_acc: 0.6226\n",
            "Epoch 37/40\n",
            "28909/28909 [==============================] - 45s 2ms/step - loss: 0.2298 - acc: 0.9201 - val_loss: 1.4999 - val_acc: 0.6326\n",
            "Epoch 38/40\n",
            "28909/28909 [==============================] - 45s 2ms/step - loss: 0.2144 - acc: 0.9280 - val_loss: 1.4804 - val_acc: 0.6304\n",
            "Epoch 39/40\n",
            "28909/28909 [==============================] - 45s 2ms/step - loss: 0.2246 - acc: 0.9224 - val_loss: 1.5156 - val_acc: 0.6219\n",
            "Epoch 40/40\n",
            "28909/28909 [==============================] - 45s 2ms/step - loss: 0.2470 - acc: 0.9171 - val_loss: 1.5477 - val_acc: 0.6258\n"
          ],
          "name": "stdout"
        }
      ]
    }
  ]
}